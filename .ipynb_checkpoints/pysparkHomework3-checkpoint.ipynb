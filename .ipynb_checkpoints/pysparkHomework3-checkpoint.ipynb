{
 "cells": [
  {
   "cell_type": "code",
   "execution_count": 1,
   "id": "97cc5c73",
   "metadata": {},
   "outputs": [],
   "source": [
    "from pyspark.sql import SparkSession\n",
    "from pyspark.sql.functions import size\n",
    "from pyspark.sql.types import *\n",
    "import pyspark\n",
    "\n",
    "\n",
    "import pandas as pd\n",
    "import os\n",
    "import numpy as np"
   ]
  },
  {
   "cell_type": "code",
   "execution_count": 2,
   "id": "a6b6d81b",
   "metadata": {},
   "outputs": [],
   "source": [
    "file_dir = os.getcwd()"
   ]
  },
  {
   "cell_type": "code",
   "execution_count": 3,
   "id": "5e11ed2e",
   "metadata": {},
   "outputs": [],
   "source": [
    "spark = SparkSession.builder.master(\"local\").getOrCreate()\n"
   ]
  },
  {
   "cell_type": "code",
   "execution_count": 170,
   "id": "cb5be11b",
   "metadata": {
    "scrolled": true
   },
   "outputs": [],
   "source": [
    "# 1st 2010 \n",
    "data2010_1 = file_dir + \"/2010/01052099999.csv\"\n",
    "csv_df = spark.read.option(\"header\", \"true\").option(\"delimiter\",\",\").csv(data2010_1)\n",
    "csv_df.createOrReplaceTempView(\"data_1_2010sql\")\n",
    "\n",
    "# 2nd 2010\n",
    "data2010_2 = file_dir + \"/2010/99407099999.csv\"\n",
    "csv_df = spark.read.option(\"header\", \"true\").option(\"delimiter\",\",\").csv(data2010_2)\n",
    "csv_df.createOrReplaceTempView(\"data_2_2010sql\")\n",
    "\n",
    "# 1st 2011\n",
    "data2011_1 = file_dir + \"/2011/01008099999.csv\"\n",
    "csv_df = spark.read.option(\"header\", \"true\").option(\"delimiter\",\",\").csv(data2011_1)\n",
    "csv_df.createOrReplaceTempView(\"data_1_2011sql\")\n",
    "\n",
    "\n",
    "# 2nd 2011\n",
    "data2011_2 = file_dir + \"/2011/01046099999.csv\"\n",
    "csv_df = spark.read.option(\"header\", \"true\").option(\"delimiter\",\",\").csv(data2011_2)\n",
    "csv_df.createOrReplaceTempView(\"data_2_2011sql\")\n",
    "\n",
    "# 1st 2012\n",
    "data2012_1 = file_dir + \"/2012/01023099999.csv\"\n",
    "csv_df = spark.read.option(\"header\", \"true\").option(\"delimiter\",\",\").csv(data2012_1)\n",
    "csv_df.createOrReplaceTempView(\"data_1_2012sql\")\n",
    "\n",
    "# 2nd 2012\n",
    "data2012_2 = file_dir + \"/2012/01044099999.csv\"\n",
    "csv_df = spark.read.option(\"header\", \"true\").option(\"delimiter\",\",\").csv(data2012_2)\n",
    "csv_df.createOrReplaceTempView(\"data_2_2012sql\")\n",
    "\n",
    "# 1st 2013\n",
    "data2013_1 = file_dir + \"/2013/01001499999.csv\"\n",
    "csv_df = spark.read.option(\"header\", \"true\").option(\"delimiter\",\",\").csv(data2013_1)\n",
    "csv_df.createOrReplaceTempView(\"data_1_2013sql\")\n",
    "\n",
    "# 2nd 2013\n",
    "data2013_2 = file_dir + \"/2013/01008099999.csv\"\n",
    "csv_df = spark.read.option(\"header\", \"true\").option(\"delimiter\",\",\").csv(data2013_2)\n",
    "csv_df.createOrReplaceTempView(\"data_2_2013sql\")\n",
    "\n",
    "# 1st 2014\n",
    "data2014_1 = file_dir + \"/2014/01008099999.csv\"\n",
    "csv_df = spark.read.option(\"header\", \"true\").option(\"delimiter\",\",\").csv(data2014_1)\n",
    "csv_df.createOrReplaceTempView(\"data_1_2014sql\")\n",
    "\n",
    "# 2nd 2014\n",
    "data2014_2 = file_dir + \"/2014/01023099999.csv\"\n",
    "csv_df = spark.read.option(\"header\", \"true\").option(\"delimiter\",\",\").csv(data2014_2)\n",
    "csv_df.createOrReplaceTempView(\"data_2_2014sql\")\n",
    "\n",
    "# 1st 2015\n",
    "data2015_1 = file_dir + \"/2015/01008099999.csv\"\n",
    "csv_df = spark.read.option(\"header\", \"true\").option(\"delimiter\",\",\").csv(data2015_1)\n",
    "csv_df.createOrReplaceTempView(\"data_1_2015sql\")\n",
    "\n",
    "# 2nd 2015\n",
    "data2015_2 = file_dir + \"/2015/01025099999.csv\"\n",
    "csv_df = spark.read.option(\"header\", \"true\").option(\"delimiter\",\",\").csv(data2015_2)\n",
    "csv_df.createOrReplaceTempView(\"data_2_2015sql\")\n",
    "\n",
    "# 1st 2016\n",
    "data2016_1 = file_dir + \"/2016/01008099999.csv\"\n",
    "csv_df = spark.read.option(\"header\", \"true\").option(\"delimiter\",\",\").csv(data2016_1)\n",
    "csv_df.createOrReplaceTempView(\"data_1_2016sql\")\n",
    "\n",
    "# 2nd 2016\n",
    "data2016_2 = file_dir + \"/2016/01023199999.csv\"\n",
    "csv_df = spark.read.option(\"header\", \"true\").option(\"delimiter\",\",\").csv(data2016_2)\n",
    "csv_df.createOrReplaceTempView(\"data_2_2016sql\")\n",
    "\n",
    "# 1st 2017\n",
    "data2017_1 = file_dir + \"/2017/01008099999.csv\"\n",
    "csv_df = spark.read.option(\"header\", \"true\").option(\"delimiter\",\",\").csv(data2017_1)\n",
    "csv_df.createOrReplaceTempView(\"data_1_2017sql\")\n",
    "\n",
    "# 2nd 2017\n",
    "data2017_2 = file_dir + \"/2017/01023099999.csv\"\n",
    "csv_df = spark.read.option(\"header\", \"true\").option(\"delimiter\",\",\").csv(data2017_2)\n",
    "csv_df.createOrReplaceTempView(\"data_2_2017sql\")\n",
    "\n",
    "# 1st 2018\n",
    "data2018_1 = file_dir + \"/2018/01008099999.csv\"\n",
    "csv_df = spark.read.option(\"header\", \"true\").option(\"delimiter\",\",\").csv(data2018_1)\n",
    "csv_df.createOrReplaceTempView(\"data_1_2018sql\")\n",
    "\n",
    "# 2nd 2018\n",
    "data2018_2 = file_dir + \"/2018/01025099999.csv\"\n",
    "csv_df = spark.read.option(\"header\", \"true\").option(\"delimiter\",\",\").csv(data2018_2)\n",
    "csv_df.createOrReplaceTempView(\"data_2_2018sql\")\n",
    "\n",
    "# 1st 2019\n",
    "data2019_1 = file_dir + \"/2019/01008099999.csv\"\n",
    "csv_df = spark.read.option(\"header\", \"true\").option(\"delimiter\",\",\").csv(data2019_1)\n",
    "csv_df.createOrReplaceTempView(\"data_1_2019sql\")\n",
    "\n",
    "# 2nd 2019\n",
    "data2019_2 = file_dir + \"/2019/01023099999.csv\"\n",
    "csv_df = spark.read.option(\"header\", \"true\").option(\"delimiter\",\",\").csv(data2019_2)\n",
    "csv_df.createOrReplaceTempView(\"data_2_2019sql\")\n",
    "\n",
    "# 1st 2020\n",
    "data2020_1 = file_dir + \"/2020/01008099999.csv\"\n",
    "csv_df = spark.read.option(\"header\", \"true\").option(\"delimiter\",\",\").csv(data2020_1)\n",
    "csv_df.createOrReplaceTempView(\"data_1_2020sql\")\n",
    "\n",
    "# 2nd 2020\n",
    "data2020_2 = file_dir + \"/2020/01023099999.csv\"\n",
    "csv_df = spark.read.option(\"header\", \"true\").option(\"delimiter\",\",\").csv(data2020_2)\n",
    "csv_df.createOrReplaceTempView(\"data_2_2020sql\")\n",
    "\n",
    "# 1st 2021\n",
    "data2021_1 = file_dir + \"/2021/01062099999.csv\"\n",
    "csv_df = spark.read.option(\"header\", \"true\").option(\"delimiter\",\",\").csv(data2021_1)\n",
    "csv_df.createOrReplaceTempView(\"data_1_2021sql\")\n",
    "\n",
    "# 2nd 2021\n",
    "data2021_2 = file_dir + \"/2021/01065099999.csv\"\n",
    "csv_df = spark.read.option(\"header\", \"true\").option(\"delimiter\",\",\").csv(data2021_2)\n",
    "csv_df.createOrReplaceTempView(\"data_2_2021sql\")\n",
    "\n",
    "# 1st 2022\n",
    "data2022_1 = file_dir + \"/2022/01241099999.csv\"\n",
    "csv_df = spark.read.option(\"header\", \"true\").option(\"delimiter\",\",\").csv(data2022_1)\n",
    "csv_df.createOrReplaceTempView(\"data_1_2022sql\")\n",
    "\n",
    "# 2nd 2022\n",
    "data2022_2 = file_dir + \"/2022/02095099999.csv\"\n",
    "csv_df = spark.read.option(\"header\", \"true\").option(\"delimiter\",\",\").csv(data2022_2)\n",
    "csv_df.createOrReplaceTempView(\"data_2_2022sql\")"
   ]
  },
  {
   "cell_type": "code",
   "execution_count": 172,
   "id": "f3d831cd",
   "metadata": {},
   "outputs": [
    {
     "name": "stdout",
     "output_type": "stream",
     "text": [
      "       STATION        NAME        DATE     MAX\n",
      "0  02095099999  PAJALA, SW  2022-07-01    85.5\n"
     ]
    }
   ],
   "source": [
    "df_sql_7 = spark.sql(\"SELECT STATION,NAME,DATE,MAX FROM data_2_2022sql WHERE MAX = (SELECT MAX(MAX) FROM data_2_2022sql WHERE MAX > 0)\").toPandas()\n",
    "print(df_sql_7)\n"
   ]
  },
  {
   "cell_type": "code",
   "execution_count": 174,
   "id": "f38be9c5",
   "metadata": {},
   "outputs": [],
   "source": [
    "df_sql_1 = spark.sql(\"SELECT STATION,NAME,DATE,MAX FROM data_1_2010sql WHERE MAX = (SELECT MAX(MAX) FROM data_1_2010sql)\").toPandas()\n",
    "df_sql_2 = spark.sql(\"SELECT STATION,NAME,DATE,MAX FROM data_2_2010sql WHERE MAX = (SELECT MAX(MAX) FROM data_2_2010sql)\").toPandas()\n",
    "df_sql_3 = spark.sql(\"SELECT STATION,NAME,DATE,MAX FROM data_1_2011sql WHERE MAX = (SELECT max(MAX) FROM data_1_2011sql where Max > 0)\").toPandas()\n",
    "df_sql_4 = spark.sql(\"SELECT STATION,NAME,DATE,MAX FROM data_2_2011sql WHERE MAX = (SELECT MAX(MAX) FROM data_2_2011sql)\").toPandas()\n",
    "df_sql_5 = spark.sql(\"SELECT STATION,NAME,DATE,MAX FROM data_1_2012sql WHERE MAX = (SELECT max(MAX) FROM data_1_2012sql where Max > 0)\").toPandas()\n",
    "df_sql_6 = spark.sql(\"SELECT STATION,NAME,DATE,MAX FROM data_2_2012sql WHERE MAX = (SELECT MAX(MAX) FROM data_2_2012sql)\").toPandas()\n",
    "df_sql_7 = spark.sql(\"SELECT STATION,NAME,DATE,MAX FROM data_1_2013sql WHERE MAX = (SELECT MAX(MAX) FROM data_1_2013sql where Max < 998)\").toPandas()\n",
    "df_sql_8 = spark.sql(\"SELECT STATION,NAME,DATE,MAX FROM data_2_2013sql WHERE MAX = (SELECT MAX(MAX) FROM data_2_2013sql)\").toPandas()\n",
    "df_sql_9 = spark.sql(\"SELECT STATION,NAME,DATE,MAX FROM data_1_2014sql WHERE MAX = (SELECT MAX(MAX) FROM data_1_2014sql)\").toPandas()\n",
    "df_sql_10 = spark.sql(\"SELECT STATION,NAME,DATE,MAX FROM data_2_2014sql WHERE MAX = (SELECT MAX(MAX) FROM data_2_2014sql)\").toPandas()\n",
    "df_sql_11 = spark.sql(\"SELECT STATION,NAME,DATE,MAX FROM data_1_2015sql WHERE MAX = (SELECT MAX(MAX) FROM data_1_2015sql)\").toPandas()\n",
    "df_sql_12 = spark.sql(\"SELECT STATION,NAME,DATE,MAX FROM data_2_2015sql WHERE MAX = (SELECT MAX(MAX) FROM data_2_2015sql)\").toPandas()\n",
    "df_sql_13 = spark.sql(\"SELECT STATION,NAME,DATE,MAX FROM data_1_2016sql WHERE MAX = (SELECT MAX(MAX) FROM data_1_2016sql)\").toPandas()\n",
    "df_sql_14 = spark.sql(\"SELECT STATION,NAME,DATE,MAX FROM data_2_2016sql WHERE MAX = (SELECT MAX(MAX) FROM data_2_2016sql where Max < 998)\").toPandas()\n",
    "df_sql_15 = spark.sql(\"SELECT STATION,NAME,DATE,MAX FROM data_1_2017sql WHERE MAX = (SELECT MAX(MAX) FROM data_1_2017sql)\").toPandas()\n",
    "df_sql_16 = spark.sql(\"SELECT STATION,NAME,DATE,MAX FROM data_2_2017sql WHERE MAX = (SELECT MAX(MAX) FROM data_2_2017sql)\").toPandas()\n",
    "df_sql_17 = spark.sql(\"SELECT STATION,NAME,DATE,MAX FROM data_1_2018sql WHERE MAX = (SELECT MAX(MAX) FROM data_1_2018sql)\").toPandas()\n",
    "df_sql_18 = spark.sql(\"SELECT STATION,NAME,DATE,MAX FROM data_2_2018sql WHERE MAX = (SELECT MAX(MAX) FROM data_2_2018sql)\").toPandas()\n",
    "df_sql_19 = spark.sql(\"SELECT STATION,NAME,DATE,MAX FROM data_1_2019sql WHERE MAX = (SELECT MAX(MAX) FROM data_1_2019sql)\").toPandas()\n",
    "df_sql_20 = spark.sql(\"SELECT STATION,NAME,DATE,MAX FROM data_2_2019sql WHERE MAX = (SELECT MAX(MAX) FROM data_2_2019sql where Max > 0)\").toPandas()\n",
    "df_sql_21 = spark.sql(\"SELECT STATION,NAME,DATE,MAX FROM data_1_2020sql WHERE MAX = (SELECT MAX(MAX) FROM data_1_2020sql where Max > 0)\").toPandas()\n",
    "df_sql_22 = spark.sql(\"SELECT STATION,NAME,DATE,MAX FROM data_2_2020sql WHERE MAX = (SELECT MAX(MAX) FROM data_2_2020sql)\").toPandas()\n",
    "df_sql_23 = spark.sql(\"SELECT STATION,NAME,DATE,MAX FROM data_1_2021sql WHERE MAX = (SELECT MAX(MAX) FROM data_1_2021sql)\").toPandas()\n",
    "df_sql_24 = spark.sql(\"SELECT STATION,NAME,DATE,MAX FROM data_2_2021sql WHERE MAX = (SELECT MAX(MAX) FROM data_2_2021sql WHERE MAX > 0)\").toPandas()\n",
    "df_sql_25 = spark.sql(\"SELECT STATION,NAME,DATE,MAX FROM data_1_2022sql WHERE MAX = (SELECT MAX(MAX) FROM data_1_2022sql WHERE MAX > 0)\").toPandas()\n",
    "df_sql_26 = spark.sql(\"SELECT STATION,NAME,DATE,MAX FROM data_2_2022sql WHERE MAX = (SELECT MAX(MAX) FROM data_2_2022sql WHERE MAX > 0)\").toPandas()\n",
    "\n",
    "masterDfForMaxTemp = pd.concat([df_sql_1,df_sql_2,df_sql_3,df_sql_4,df_sql_5,df_sql_6,df_sql_7,df_sql_8,df_sql_9,df_sql_10,df_sql_11,df_sql_12,df_sql_13,df_sql_14,df_sql_15,df_sql_16,df_sql_17,df_sql_18,df_sql_19,df_sql_20,df_sql_21,df_sql_22,df_sql_23,df_sql_24,df_sql_25,df_sql_26],  axis=0)"
   ]
  },
  {
   "cell_type": "code",
   "execution_count": 175,
   "id": "adee6aaf",
   "metadata": {},
   "outputs": [
    {
     "name": "stdout",
     "output_type": "stream",
     "text": [
      "       STATION                       NAME        DATE     MAX\n",
      "0  01052099999     HAMMERFEST AIRPORT, NO  2010-06-26    72.9\n",
      "0  99407099999  DESTRUCTION IS. WA, WA US  2010-08-15    74.8\n",
      "0  01008099999               LONGYEAR, SV  2011-08-17    62.8\n",
      "0  01046099999              SORKJOSEN, NO  2011-07-09    87.8\n",
      "0  01023099999              BARDUFOSS, NO  2012-07-05    72.0\n",
      "0  01044099999                 HASVIK, NO  2012-07-14    69.8\n",
      "0  01001499999             SORSTOKKEN, NO  2013-08-02    80.6\n",
      "0  01008099999               LONGYEAR, SV  2013-07-03    59.0\n",
      "1  01008099999               LONGYEAR, SV  2013-08-17    59.0\n",
      "0  01008099999               LONGYEAR, SV  2014-07-08    53.6\n",
      "1  01008099999               LONGYEAR, SV  2014-08-03    53.6\n",
      "2  01008099999               LONGYEAR, SV  2014-08-04    53.6\n",
      "3  01008099999               LONGYEAR, SV  2014-08-22    53.6\n",
      "0  01023099999              BARDUFOSS, NO  2014-07-10    89.6\n",
      "0  01008099999               LONGYEAR, SV  2015-07-30    64.4\n",
      "0  01025099999                 TROMSO, NO  2015-07-30    71.6\n",
      "0  01008099999               LONGYEAR, SV  2016-07-03    58.1\n",
      "0  01023199999                DRAUGEN, NO  2016-07-21    77.0\n",
      "0  01008099999               LONGYEAR, SV  2017-07-17    55.4\n",
      "0  01023099999              BARDUFOSS, NO  2017-06-09    78.6\n",
      "0  01008099999               LONGYEAR, SV  2018-08-02    59.2\n",
      "0  01025099999                 TROMSO, NO  2018-07-29    84.2\n",
      "0  01008099999               LONGYEAR, SV  2019-07-06    61.0\n",
      "0  01023099999              BARDUFOSS, NO  2019-07-21    78.8\n",
      "1  01023099999              BARDUFOSS, NO  2019-07-22    78.8\n",
      "0  01008099999               LONGYEAR, SV  2020-07-25    71.1\n",
      "0  01023099999              BARDUFOSS, NO  2020-06-22    79.9\n",
      "0  01062099999           HOPEN ISLAND, NO  2021-10-05    47.3\n",
      "0  01065099999               KARASJOK, NO  2021-07-05    88.3\n",
      "0  01241099999                 ORLAND, NO  2022-06-25    82.4\n",
      "1  01241099999                 ORLAND, NO  2022-06-26    82.4\n",
      "2  01241099999                 ORLAND, NO  2022-07-01    82.4\n",
      "0  02095099999                 PAJALA, SW  2022-07-01    85.5\n"
     ]
    }
   ],
   "source": [
    "print(masterDfForMaxTemp)"
   ]
  },
  {
   "cell_type": "code",
   "execution_count": 176,
   "id": "e69c969b",
   "metadata": {},
   "outputs": [],
   "source": [
    "# Hotest day table\n",
    "if os.path.exists(\"output.txt\"):\n",
    "    os.remove(\"output.txt\")\n",
    "    masterDfForMaxTemp.to_csv('output.txt', header=True, index=False, sep=',', mode='a')\n",
    "else:\n",
    "    masterDfForMaxTemp.to_csv('output.txt', header=True, index=False, sep=',', mode='a')"
   ]
  },
  {
   "cell_type": "code",
   "execution_count": null,
   "id": "929be1bc",
   "metadata": {},
   "outputs": [],
   "source": []
  },
  {
   "cell_type": "code",
   "execution_count": null,
   "id": "1ec22342",
   "metadata": {},
   "outputs": [],
   "source": []
  }
 ],
 "metadata": {
  "kernelspec": {
   "display_name": "Python 3 (ipykernel)",
   "language": "python",
   "name": "python3"
  },
  "language_info": {
   "codemirror_mode": {
    "name": "ipython",
    "version": 3
   },
   "file_extension": ".py",
   "mimetype": "text/x-python",
   "name": "python",
   "nbconvert_exporter": "python",
   "pygments_lexer": "ipython3",
   "version": "3.9.12"
  },
  "vscode": {
   "interpreter": {
    "hash": "369f2c481f4da34e4445cda3fffd2e751bd1c4d706f27375911949ba6bb62e1c"
   }
  },
  "widgets": {
   "application/vnd.jupyter.widget-state+json": {
    "state": {},
    "version_major": 2,
    "version_minor": 0
   }
  }
 },
 "nbformat": 4,
 "nbformat_minor": 5
}
