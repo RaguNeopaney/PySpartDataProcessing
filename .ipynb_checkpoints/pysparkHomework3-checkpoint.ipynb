{
 "cells": [
  {
   "cell_type": "code",
   "execution_count": 48,
   "id": "97cc5c73",
   "metadata": {},
   "outputs": [
    {
     "ename": "ModuleNotFoundError",
     "evalue": "No module named 'org'",
     "output_type": "error",
     "traceback": [
      "\u001b[1;31m---------------------------------------------------------------------------\u001b[0m",
      "\u001b[1;31mModuleNotFoundError\u001b[0m                       Traceback (most recent call last)",
      "Input \u001b[1;32mIn [48]\u001b[0m, in \u001b[0;36m<cell line: 5>\u001b[1;34m()\u001b[0m\n\u001b[0;32m      3\u001b[0m \u001b[38;5;28;01mfrom\u001b[39;00m \u001b[38;5;21;01mpyspark\u001b[39;00m\u001b[38;5;21;01m.\u001b[39;00m\u001b[38;5;21;01msql\u001b[39;00m\u001b[38;5;21;01m.\u001b[39;00m\u001b[38;5;21;01mtypes\u001b[39;00m \u001b[38;5;28;01mimport\u001b[39;00m \u001b[38;5;241m*\u001b[39m\n\u001b[0;32m      4\u001b[0m \u001b[38;5;28;01mimport\u001b[39;00m \u001b[38;5;21;01mpyspark\u001b[39;00m\n\u001b[1;32m----> 5\u001b[0m \u001b[38;5;28;01mimport\u001b[39;00m \u001b[38;5;21;01morg\u001b[39;00m\u001b[38;5;21;01m.\u001b[39;00m\u001b[38;5;21;01mapache\u001b[39;00m\u001b[38;5;21;01m.\u001b[39;00m\u001b[38;5;21;01mspark\u001b[39;00m\u001b[38;5;21;01m.\u001b[39;00m\u001b[38;5;21;01msql\u001b[39;00m\u001b[38;5;21;01m.\u001b[39;00m\u001b[38;5;21;01mfunctions\u001b[39;00m\u001b[38;5;21;01m.\u001b[39;00m\u001b[38;5;21;01mcol\u001b[39;00m\n\u001b[0;32m      6\u001b[0m \u001b[38;5;28;01mimport\u001b[39;00m \u001b[38;5;21;01morg\u001b[39;00m\u001b[38;5;21;01m.\u001b[39;00m\u001b[38;5;21;01mapache\u001b[39;00m\u001b[38;5;21;01m.\u001b[39;00m\u001b[38;5;21;01mspark\u001b[39;00m\u001b[38;5;21;01m.\u001b[39;00m\u001b[38;5;21;01msql\u001b[39;00m\u001b[38;5;21;01m.\u001b[39;00m\u001b[38;5;21;01mtypes\u001b[39;00m\u001b[38;5;21;01m.\u001b[39;00m\u001b[38;5;21;01mIntegerType\u001b[39;00m\n\u001b[0;32m      9\u001b[0m \u001b[38;5;28;01mimport\u001b[39;00m \u001b[38;5;21;01mpandas\u001b[39;00m \u001b[38;5;28;01mas\u001b[39;00m \u001b[38;5;21;01mpd\u001b[39;00m\n",
      "\u001b[1;31mModuleNotFoundError\u001b[0m: No module named 'org'"
     ]
    }
   ],
   "source": [
    "from pyspark.sql import SparkSession\n",
    "from pyspark.sql.functions import size\n",
    "from pyspark.sql.types import *\n",
    "import pyspark\n",
    "\n",
    "\n",
    "\n",
    "import pandas as pd\n",
    "import os\n",
    "import numpy as np"
   ]
  },
  {
   "cell_type": "code",
   "execution_count": null,
   "id": "a6b6d81b",
   "metadata": {},
   "outputs": [],
   "source": [
    "file_dir = os.getcwd()"
   ]
  },
  {
   "cell_type": "code",
   "execution_count": null,
   "id": "5e11ed2e",
   "metadata": {},
   "outputs": [],
   "source": [
    "spark = SparkSession.builder.master(\"local\").getOrCreate()\n"
   ]
  },
  {
   "cell_type": "code",
   "execution_count": null,
   "id": "cb5be11b",
   "metadata": {
    "scrolled": true
   },
   "outputs": [],
   "source": [
    "# 1st 2010 \n",
    "data2010_1 = file_dir + \"/2010/01052099999.csv\"\n",
    "csv_df = spark.read.option(\"header\", \"true\").option(\"delimiter\",\",\").csv(data2010_1)\n",
    "csv_df.createOrReplaceTempView(\"data_1_2010sql\")\n",
    "\n",
    "# 2nd 2010\n",
    "data2010_2 = file_dir + \"/2010/99407099999.csv\"\n",
    "csv_df = spark.read.option(\"header\", \"true\").option(\"delimiter\",\",\").csv(data2010_2)\n",
    "csv_df.createOrReplaceTempView(\"data_2_2010sql\")\n",
    "\n",
    "# 1st 2011\n",
    "data2011_1 = file_dir + \"/2011/01008099999.csv\"\n",
    "csv_df = spark.read.option(\"header\", \"true\").option(\"delimiter\",\",\").csv(data2011_1)\n",
    "csv_df.createOrReplaceTempView(\"data_1_2011sql\")\n",
    "\n",
    "\n",
    "# 2nd 2011\n",
    "data2011_2 = file_dir + \"/2011/01046099999.csv\"\n",
    "csv_df = spark.read.option(\"header\", \"true\").option(\"delimiter\",\",\").csv(data2011_2)\n",
    "csv_df.createOrReplaceTempView(\"data_2_2011sql\")\n",
    "\n",
    "# 1st 2012\n",
    "data2012_1 = file_dir + \"/2012/01023099999.csv\"\n",
    "csv_df = spark.read.option(\"header\", \"true\").option(\"delimiter\",\",\").csv(data2012_1)\n",
    "csv_df.createOrReplaceTempView(\"data_1_2012sql\")\n",
    "\n",
    "# 2nd 2012\n",
    "data2012_2 = file_dir + \"/2012/01044099999.csv\"\n",
    "csv_df = spark.read.option(\"header\", \"true\").option(\"delimiter\",\",\").csv(data2012_2)\n",
    "csv_df.createOrReplaceTempView(\"data_2_2012sql\")\n",
    "\n",
    "# 1st 2013\n",
    "data2013_1 = file_dir + \"/2013/01001499999.csv\"\n",
    "csv_df = spark.read.option(\"header\", \"true\").option(\"delimiter\",\",\").csv(data2013_1)\n",
    "csv_df.createOrReplaceTempView(\"data_1_2013sql\")\n",
    "\n",
    "# 2nd 2013\n",
    "data2013_2 = file_dir + \"/2013/01008099999.csv\"\n",
    "csv_df = spark.read.option(\"header\", \"true\").option(\"delimiter\",\",\").csv(data2013_2)\n",
    "csv_df.createOrReplaceTempView(\"data_2_2013sql\")\n",
    "\n",
    "# 1st 2014\n",
    "data2014_1 = file_dir + \"/2014/01008099999.csv\"\n",
    "csv_df = spark.read.option(\"header\", \"true\").option(\"delimiter\",\",\").csv(data2014_1)\n",
    "csv_df.createOrReplaceTempView(\"data_1_2014sql\")\n",
    "\n",
    "# 2nd 2014\n",
    "data2014_2 = file_dir + \"/2014/01023099999.csv\"\n",
    "csv_df = spark.read.option(\"header\", \"true\").option(\"delimiter\",\",\").csv(data2014_2)\n",
    "csv_df.createOrReplaceTempView(\"data_2_2014sql\")\n",
    "\n",
    "# 1st 2015\n",
    "data2015_1 = file_dir + \"/2015/01008099999.csv\"\n",
    "csv_df = spark.read.option(\"header\", \"true\").option(\"delimiter\",\",\").csv(data2015_1)\n",
    "csv_df.createOrReplaceTempView(\"data_1_2015sql\")\n",
    "\n",
    "# 2nd 2015\n",
    "data2015_2 = file_dir + \"/2015/01025099999.csv\"\n",
    "csv_df = spark.read.option(\"header\", \"true\").option(\"delimiter\",\",\").csv(data2015_2)\n",
    "csv_df.createOrReplaceTempView(\"data_2_2015sql\")\n",
    "\n",
    "# 1st 2016\n",
    "data2016_1 = file_dir + \"/2016/01008099999.csv\"\n",
    "csv_df = spark.read.option(\"header\", \"true\").option(\"delimiter\",\",\").csv(data2016_1)\n",
    "csv_df.createOrReplaceTempView(\"data_1_2016sql\")\n",
    "\n",
    "# 2nd 2016\n",
    "data2016_2 = file_dir + \"/2016/01023199999.csv\"\n",
    "csv_df = spark.read.option(\"header\", \"true\").option(\"delimiter\",\",\").csv(data2016_2)\n",
    "csv_df.createOrReplaceTempView(\"data_2_2016sql\")\n",
    "\n",
    "# 1st 2017\n",
    "data2017_1 = file_dir + \"/2017/01008099999.csv\"\n",
    "csv_df = spark.read.option(\"header\", \"true\").option(\"delimiter\",\",\").csv(data2017_1)\n",
    "csv_df.createOrReplaceTempView(\"data_1_2017sql\")\n",
    "\n",
    "# 2nd 2017\n",
    "data2017_2 = file_dir + \"/2017/01023099999.csv\"\n",
    "csv_df = spark.read.option(\"header\", \"true\").option(\"delimiter\",\",\").csv(data2017_2)\n",
    "csv_df.createOrReplaceTempView(\"data_2_2017sql\")\n",
    "\n",
    "# 1st 2018\n",
    "data2018_1 = file_dir + \"/2018/01008099999.csv\"\n",
    "csv_df = spark.read.option(\"header\", \"true\").option(\"delimiter\",\",\").csv(data2018_1)\n",
    "csv_df.createOrReplaceTempView(\"data_1_2018sql\")\n",
    "\n",
    "# 2nd 2018\n",
    "data2018_2 = file_dir + \"/2018/01025099999.csv\"\n",
    "csv_df = spark.read.option(\"header\", \"true\").option(\"delimiter\",\",\").csv(data2018_2)\n",
    "csv_df.createOrReplaceTempView(\"data_2_2018sql\")\n",
    "\n",
    "# 1st 2019\n",
    "data2019_1 = file_dir + \"/2019/01008099999.csv\"\n",
    "csv_df = spark.read.option(\"header\", \"true\").option(\"delimiter\",\",\").csv(data2019_1)\n",
    "csv_df.createOrReplaceTempView(\"data_1_2019sql\")\n",
    "\n",
    "# 2nd 2019\n",
    "data2019_2 = file_dir + \"/2019/01023099999.csv\"\n",
    "csv_df = spark.read.option(\"header\", \"true\").option(\"delimiter\",\",\").csv(data2019_2)\n",
    "csv_df.createOrReplaceTempView(\"data_2_2019sql\")\n",
    "\n",
    "# 1st 2020\n",
    "data2020_1 = file_dir + \"/2020/01008099999.csv\"\n",
    "csv_df = spark.read.option(\"header\", \"true\").option(\"delimiter\",\",\").csv(data2020_1)\n",
    "csv_df.createOrReplaceTempView(\"data_1_2020sql\")\n",
    "\n",
    "# 2nd 2020\n",
    "data2020_2 = file_dir + \"/2020/01023099999.csv\"\n",
    "csv_df = spark.read.option(\"header\", \"true\").option(\"delimiter\",\",\").csv(data2020_2)\n",
    "csv_df.createOrReplaceTempView(\"data_2_2020sql\")\n",
    "\n",
    "# 1st 2021\n",
    "data2021_1 = file_dir + \"/2021/01062099999.csv\"\n",
    "csv_df = spark.read.option(\"header\", \"true\").option(\"delimiter\",\",\").csv(data2021_1)\n",
    "csv_df.createOrReplaceTempView(\"data_1_2021sql\")\n",
    "\n",
    "# 2nd 2021\n",
    "data2021_2 = file_dir + \"/2021/01065099999.csv\"\n",
    "csv_df = spark.read.option(\"header\", \"true\").option(\"delimiter\",\",\").csv(data2021_2)\n",
    "csv_df.createOrReplaceTempView(\"data_2_2021sql\")\n",
    "\n",
    "# 1st 2022\n",
    "data2022_1 = file_dir + \"/2022/01241099999.csv\"\n",
    "csv_df = spark.read.option(\"header\", \"true\").option(\"delimiter\",\",\").csv(data2022_1)\n",
    "csv_df.createOrReplaceTempView(\"data_1_2022sql\")\n",
    "\n",
    "# 2nd 2022\n",
    "data2022_2 = file_dir + \"/2022/02095099999.csv\"\n",
    "csv_df = spark.read.option(\"header\", \"true\").option(\"delimiter\",\",\").csv(data2022_2)\n",
    "csv_df.createOrReplaceTempView(\"data_2_2022sql\")"
   ]
  },
  {
   "cell_type": "code",
   "execution_count": 64,
   "id": "f3d831cd",
   "metadata": {},
   "outputs": [
    {
     "name": "stdout",
     "output_type": "stream",
     "text": [
      "       STATION          NAME        DATE Min Temp\n",
      "0  01008099999  LONGYEAR, SV  2011-01-30    -23.8\n"
     ]
    }
   ],
   "source": [
    "df_sql_3_min = spark.sql(\"SELECT STATION,NAME,DATE,MIN FROM data_1_2011sql WHERE MIN = (SELECT Min(FLOAT(MIN)) FROM data_1_2011sql)\").withColumnRenamed(\"MIN\", \"Min Temp\").toPandas()\n",
    "print(df_sql_3_min)"
   ]
  },
  {
   "cell_type": "code",
   "execution_count": 53,
   "id": "f38be9c5",
   "metadata": {},
   "outputs": [],
   "source": [
    "# calculates Max temp and puts it into pandas dataframe so it is easier to write on output file\n",
    "df_sql_1 = spark.sql(\"SELECT STATION,NAME,DATE,MAX FROM data_1_2010sql WHERE MAX = (SELECT MAX(MAX) FROM data_1_2010sql)\").withColumnRenamed(\"MAX\", \"Max Temp\").toPandas()\n",
    "df_sql_2 = spark.sql(\"SELECT STATION,NAME,DATE,MAX FROM data_2_2010sql WHERE MAX = (SELECT MAX(MAX) FROM data_2_2010sql)\").withColumnRenamed(\"MAX\", \"Max Temp\").toPandas()\n",
    "df_sql_3 = spark.sql(\"SELECT STATION,NAME,DATE,MAX FROM data_1_2011sql WHERE MAX = (SELECT max(MAX) FROM data_1_2011sql where Max > 0)\").withColumnRenamed(\"MAX\", \"Max Temp\").toPandas()\n",
    "df_sql_4 = spark.sql(\"SELECT STATION,NAME,DATE,MAX FROM data_2_2011sql WHERE MAX = (SELECT MAX(MAX) FROM data_2_2011sql)\").withColumnRenamed(\"MAX\", \"Max Temp\").toPandas()\n",
    "df_sql_5 = spark.sql(\"SELECT STATION,NAME,DATE,MAX FROM data_1_2012sql WHERE MAX = (SELECT max(MAX) FROM data_1_2012sql where Max > 0)\").withColumnRenamed(\"MAX\", \"Max Temp\").toPandas()\n",
    "df_sql_6 = spark.sql(\"SELECT STATION,NAME,DATE,MAX FROM data_2_2012sql WHERE MAX = (SELECT MAX(MAX) FROM data_2_2012sql)\").withColumnRenamed(\"MAX\", \"Max Temp\").toPandas()\n",
    "df_sql_7 = spark.sql(\"SELECT STATION,NAME,DATE,MAX FROM data_1_2013sql WHERE MAX = (SELECT MAX(MAX) FROM data_1_2013sql where Max < 998)\").withColumnRenamed(\"MAX\", \"Max Temp\").toPandas()\n",
    "df_sql_8 = spark.sql(\"SELECT STATION,NAME,DATE,MAX FROM data_2_2013sql WHERE MAX = (SELECT MAX(MAX) FROM data_2_2013sql)\").withColumnRenamed(\"MAX\", \"Max Temp\").toPandas()\n",
    "df_sql_9 = spark.sql(\"SELECT STATION,NAME,DATE,MAX FROM data_1_2014sql WHERE MAX = (SELECT MAX(MAX) FROM data_1_2014sql)\").withColumnRenamed(\"MAX\", \"Max Temp\").toPandas()\n",
    "df_sql_10 = spark.sql(\"SELECT STATION,NAME,DATE,MAX FROM data_2_2014sql WHERE MAX = (SELECT MAX(MAX) FROM data_2_2014sql)\").withColumnRenamed(\"MAX\", \"Max Temp\").toPandas()\n",
    "df_sql_11 = spark.sql(\"SELECT STATION,NAME,DATE,MAX FROM data_1_2015sql WHERE MAX = (SELECT MAX(MAX) FROM data_1_2015sql)\").withColumnRenamed(\"MAX\", \"Max Temp\").toPandas()\n",
    "df_sql_12 = spark.sql(\"SELECT STATION,NAME,DATE,MAX FROM data_2_2015sql WHERE MAX = (SELECT MAX(MAX) FROM data_2_2015sql)\").withColumnRenamed(\"MAX\", \"Max Temp\").toPandas()\n",
    "df_sql_13 = spark.sql(\"SELECT STATION,NAME,DATE,MAX FROM data_1_2016sql WHERE MAX = (SELECT MAX(MAX) FROM data_1_2016sql)\").withColumnRenamed(\"MAX\", \"Max Temp\").toPandas()\n",
    "df_sql_14 = spark.sql(\"SELECT STATION,NAME,DATE,MAX FROM data_2_2016sql WHERE MAX = (SELECT MAX(MAX) FROM data_2_2016sql where Max < 998)\").withColumnRenamed(\"MAX\", \"Max Temp\").toPandas()\n",
    "df_sql_15 = spark.sql(\"SELECT STATION,NAME,DATE,MAX FROM data_1_2017sql WHERE MAX = (SELECT MAX(MAX) FROM data_1_2017sql)\").withColumnRenamed(\"MAX\", \"Max Temp\").toPandas()\n",
    "df_sql_16 = spark.sql(\"SELECT STATION,NAME,DATE,MAX FROM data_2_2017sql WHERE MAX = (SELECT MAX(MAX) FROM data_2_2017sql)\").withColumnRenamed(\"MAX\", \"Max Temp\").toPandas()\n",
    "df_sql_17 = spark.sql(\"SELECT STATION,NAME,DATE,MAX FROM data_1_2018sql WHERE MAX = (SELECT MAX(MAX) FROM data_1_2018sql)\").withColumnRenamed(\"MAX\", \"Max Temp\").toPandas()\n",
    "df_sql_18 = spark.sql(\"SELECT STATION,NAME,DATE,MAX FROM data_2_2018sql WHERE MAX = (SELECT MAX(MAX) FROM data_2_2018sql)\").withColumnRenamed(\"MAX\", \"Max Temp\").toPandas()\n",
    "df_sql_19 = spark.sql(\"SELECT STATION,NAME,DATE,MAX FROM data_1_2019sql WHERE MAX = (SELECT MAX(MAX) FROM data_1_2019sql)\").withColumnRenamed(\"MAX\", \"Max Temp\").toPandas()\n",
    "df_sql_20 = spark.sql(\"SELECT STATION,NAME,DATE,MAX FROM data_2_2019sql WHERE MAX = (SELECT MAX(MAX) FROM data_2_2019sql where Max > 0)\").withColumnRenamed(\"MAX\", \"Max Temp\").toPandas()\n",
    "df_sql_21 = spark.sql(\"SELECT STATION,NAME,DATE,MAX FROM data_1_2020sql WHERE MAX = (SELECT MAX(MAX) FROM data_1_2020sql where Max > 0)\").withColumnRenamed(\"MAX\", \"Max Temp\").toPandas()\n",
    "df_sql_22 = spark.sql(\"SELECT STATION,NAME,DATE,MAX FROM data_2_2020sql WHERE MAX = (SELECT MAX(MAX) FROM data_2_2020sql)\").withColumnRenamed(\"MAX\", \"Max Temp\").toPandas()\n",
    "df_sql_23 = spark.sql(\"SELECT STATION,NAME,DATE,MAX FROM data_1_2021sql WHERE MAX = (SELECT MAX(MAX) FROM data_1_2021sql)\").withColumnRenamed(\"MAX\", \"Max Temp\").toPandas()\n",
    "df_sql_24 = spark.sql(\"SELECT STATION,NAME,DATE,MAX FROM data_2_2021sql WHERE MAX = (SELECT MAX(MAX) FROM data_2_2021sql WHERE MAX > 0)\").withColumnRenamed(\"MAX\", \"Max Temp\").toPandas()\n",
    "df_sql_25 = spark.sql(\"SELECT STATION,NAME,DATE,MAX FROM data_1_2022sql WHERE MAX = (SELECT MAX(MAX) FROM data_1_2022sql WHERE MAX > 0)\").withColumnRenamed(\"MAX\", \"Max Temp\").toPandas()\n",
    "df_sql_26 = spark.sql(\"SELECT STATION,NAME,DATE,MAX FROM data_2_2022sql WHERE MAX = (SELECT MAX(MAX) FROM data_2_2022sql WHERE MAX > 0)\").withColumnRenamed(\"MAX\", \"Max Temp\").toPandas()\n",
    "\n",
    "masterDfForMaxTemp = pd.concat([df_sql_1,df_sql_2,df_sql_3,df_sql_4,df_sql_5,df_sql_6,df_sql_7,df_sql_8,df_sql_9,df_sql_10,df_sql_11,df_sql_12,df_sql_13,df_sql_14,df_sql_15,df_sql_16,df_sql_17,df_sql_18,df_sql_19,df_sql_20,df_sql_21,df_sql_22,df_sql_23,df_sql_24,df_sql_25,df_sql_26],  axis=0)"
   ]
  },
  {
   "cell_type": "code",
   "execution_count": 37,
   "id": "adee6aaf",
   "metadata": {},
   "outputs": [
    {
     "name": "stdout",
     "output_type": "stream",
     "text": [
      "       STATION                       NAME        DATE Min Temp\n",
      "0  01052099999     HAMMERFEST AIRPORT, NO  2010-01-29     -1.1\n",
      "0  99407099999  DESTRUCTION IS. WA, WA US  2010-11-23     25.2\n",
      "0  01008099999               LONGYEAR, SV  2011-01-15     -1.7\n",
      "0  01046099999              SORKJOSEN, NO  2011-02-23      0.7\n"
     ]
    }
   ],
   "source": [
    "# calculates Max temp and puts it into pandas dataframe so it is easier to write on output file\n",
    "df_sql_1_min = spark.sql(\"SELECT STATION,NAME,DATE,MIN FROM data_1_2010sql WHERE MIN = (SELECT Min(MIN) FROM data_1_2010sql WHERE MIN < 0)\").withColumnRenamed(\"MIN\", \"Min Temp\").toPandas()\n",
    "df_sql_2_min = spark.sql(\"SELECT STATION,NAME,DATE,MIN FROM data_2_2010sql WHERE MIN = (SELECT Min(MIN) FROM data_2_2010sql)\").withColumnRenamed(\"MIN\", \"Min Temp\").toPandas()\n",
    "df_sql_3_min = spark.sql(\"SELECT STATION,NAME,DATE,MIN FROM data_1_2011sql WHERE MIN = (SELECT Min(MIN) FROM data_1_2011sql WHERE MIN < 0)\").withColumnRenamed(\"MIN\", \"Min Temp\").toPandas()\n",
    "df_sql_4_min = spark.sql(\"SELECT STATION,NAME,DATE,MIN FROM data_2_2011sql WHERE MIN = (SELECT Min(MIN) FROM data_2_2011sql)\").withColumnRenamed(\"MIN\", \"Min Temp\").toPandas()\n",
    "\n",
    "masterDfForMinTemp = pd.concat([df_sql_1_min,df_sql_2_min,df_sql_3_min,df_sql_4_min],  axis=0)\n",
    "print(masterDfForMinTemp)"
   ]
  },
  {
   "cell_type": "code",
   "execution_count": 27,
   "id": "e69c969b",
   "metadata": {},
   "outputs": [],
   "source": [
    "# Hotest day table\n",
    "if os.path.exists(\"output.txt\"):\n",
    "    os.remove(\"output.txt\")\n",
    "    masterDfForMaxTemp.to_csv('output.txt', header=True, index=False, sep='|', mode='a')\n",
    "    with open(\"output.txt\", \"a\") as file_object:\n",
    "    # Append 'hello' at the end of file\n",
    "        file_object.write(\"\\n\")\n",
    "    df_sql_1_min.to_csv('output.txt', header=True, index=False, sep='|', mode='a')\n",
    "else:\n",
    "    masterDfForMaxTemp.to_csv('output.txt', header=True, index=False, sep='|', mode='a')\n",
    "    with open(\"output.txt\", \"a\") as file_object:\n",
    "    # Append 'hello' at the end of file\n",
    "        file_object.write(\"\\n\")\n",
    "    df_sql_1_min.to_csv('output.txt', header=True, index=False, sep='|', mode='a')"
   ]
  },
  {
   "cell_type": "code",
   "execution_count": null,
   "id": "929be1bc",
   "metadata": {},
   "outputs": [],
   "source": []
  },
  {
   "cell_type": "code",
   "execution_count": null,
   "id": "1ec22342",
   "metadata": {},
   "outputs": [],
   "source": []
  }
 ],
 "metadata": {
  "kernelspec": {
   "display_name": "Python 3 (ipykernel)",
   "language": "python",
   "name": "python3"
  },
  "language_info": {
   "codemirror_mode": {
    "name": "ipython",
    "version": 3
   },
   "file_extension": ".py",
   "mimetype": "text/x-python",
   "name": "python",
   "nbconvert_exporter": "python",
   "pygments_lexer": "ipython3",
   "version": "3.9.12"
  },
  "vscode": {
   "interpreter": {
    "hash": "369f2c481f4da34e4445cda3fffd2e751bd1c4d706f27375911949ba6bb62e1c"
   }
  },
  "widgets": {
   "application/vnd.jupyter.widget-state+json": {
    "state": {},
    "version_major": 2,
    "version_minor": 0
   }
  }
 },
 "nbformat": 4,
 "nbformat_minor": 5
}
